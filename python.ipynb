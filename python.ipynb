{
  "nbformat": 4,
  "nbformat_minor": 0,
  "metadata": {
    "colab": {
      "provenance": [],
      "authorship_tag": "ABX9TyOud7ZLB+UzgHql5RY+GRR6",
      "include_colab_link": true
    },
    "kernelspec": {
      "name": "python3",
      "display_name": "Python 3"
    },
    "language_info": {
      "name": "python"
    }
  },
  "cells": [
    {
      "cell_type": "markdown",
      "metadata": {
        "id": "view-in-github",
        "colab_type": "text"
      },
      "source": [
        "<a href=\"https://colab.research.google.com/github/ArifaAsha/LearningML/blob/main/python.ipynb\" target=\"_parent\"><img src=\"https://colab.research.google.com/assets/colab-badge.svg\" alt=\"Open In Colab\"/></a>"
      ]
    },
    {
      "cell_type": "markdown",
      "source": [
        "#Slice"
      ],
      "metadata": {
        "id": "_4Rn_q6eTYwx"
      }
    },
    {
      "cell_type": "code",
      "execution_count": null,
      "metadata": {
        "id": "3_C_6sPpP_fd"
      },
      "outputs": [],
      "source": [
        "s ='abcdefghijk'"
      ]
    },
    {
      "cell_type": "code",
      "source": [
        "s[2:5]"
      ],
      "metadata": {
        "colab": {
          "base_uri": "https://localhost:8080/",
          "height": 35
        },
        "id": "VJDFixtLTWqg",
        "outputId": "c50a61de-4e3d-41ff-b4ec-809646692e7f"
      },
      "execution_count": null,
      "outputs": [
        {
          "output_type": "execute_result",
          "data": {
            "text/plain": [
              "'cde'"
            ],
            "application/vnd.google.colaboratory.intrinsic+json": {
              "type": "string"
            }
          },
          "metadata": {},
          "execution_count": 9
        }
      ]
    },
    {
      "cell_type": "code",
      "source": [
        "#excluding 3; upto 2\n",
        "s[:3]"
      ],
      "metadata": {
        "colab": {
          "base_uri": "https://localhost:8080/",
          "height": 35
        },
        "id": "U8ZdDfz3UBzI",
        "outputId": "a0207b3c-aa79-443d-a95d-879f446a4a42"
      },
      "execution_count": null,
      "outputs": [
        {
          "output_type": "execute_result",
          "data": {
            "text/plain": [
              "'abc'"
            ],
            "application/vnd.google.colaboratory.intrinsic+json": {
              "type": "string"
            }
          },
          "metadata": {},
          "execution_count": 12
        }
      ]
    },
    {
      "cell_type": "code",
      "source": [
        "s[3:6]"
      ],
      "metadata": {
        "colab": {
          "base_uri": "https://localhost:8080/",
          "height": 35
        },
        "id": "sq5b4JtiUPaJ",
        "outputId": "b7065b07-2673-44fc-daa1-c38b43d86749"
      },
      "execution_count": null,
      "outputs": [
        {
          "output_type": "execute_result",
          "data": {
            "text/plain": [
              "'def'"
            ],
            "application/vnd.google.colaboratory.intrinsic+json": {
              "type": "string"
            }
          },
          "metadata": {},
          "execution_count": 14
        }
      ]
    },
    {
      "cell_type": "markdown",
      "source": [
        "#List"
      ],
      "metadata": {
        "id": "az8RPfUrVorB"
      }
    },
    {
      "cell_type": "code",
      "source": [
        "nest = [1,2,3,[4,5,['targest']]]"
      ],
      "metadata": {
        "id": "pJF6Fac1VPT5"
      },
      "execution_count": null,
      "outputs": []
    },
    {
      "cell_type": "code",
      "source": [
        "nest[3][2][0 ]"
      ],
      "metadata": {
        "colab": {
          "base_uri": "https://localhost:8080/",
          "height": 35
        },
        "id": "MHYHAEyEVV18",
        "outputId": "febe46ce-465e-4136-92dd-da8d66ee3d05"
      },
      "execution_count": null,
      "outputs": [
        {
          "output_type": "execute_result",
          "data": {
            "text/plain": [
              "'targest'"
            ],
            "application/vnd.google.colaboratory.intrinsic+json": {
              "type": "string"
            }
          },
          "metadata": {},
          "execution_count": 17
        }
      ]
    },
    {
      "cell_type": "markdown",
      "source": [
        "#Dictionary"
      ],
      "metadata": {
        "id": "olytqYi_WZVB"
      }
    },
    {
      "cell_type": "code",
      "source": [
        "d = {'key1':'value', 'key2': 1234}"
      ],
      "metadata": {
        "id": "gdazTh8eWeKh"
      },
      "execution_count": null,
      "outputs": []
    },
    {
      "cell_type": "code",
      "source": [
        "d['key2']"
      ],
      "metadata": {
        "colab": {
          "base_uri": "https://localhost:8080/"
        },
        "id": "DHRtMvLxWfWS",
        "outputId": "7e3198a7-ed52-4630-cc96-cbe400e8374e"
      },
      "execution_count": null,
      "outputs": [
        {
          "output_type": "execute_result",
          "data": {
            "text/plain": [
              "1234"
            ]
          },
          "metadata": {},
          "execution_count": 21
        }
      ]
    },
    {
      "cell_type": "code",
      "source": [
        "d={'k1':{'innerkey':[1,2,3]}}"
      ],
      "metadata": {
        "id": "n8zgNQRgXRqA"
      },
      "execution_count": null,
      "outputs": []
    },
    {
      "cell_type": "code",
      "source": [
        "d['k1']['innerkey'][0]"
      ],
      "metadata": {
        "colab": {
          "base_uri": "https://localhost:8080/"
        },
        "id": "tqwkzPMRXeKw",
        "outputId": "cd6c687c-4965-4e60-9a92-020766988891"
      },
      "execution_count": null,
      "outputs": [
        {
          "output_type": "execute_result",
          "data": {
            "text/plain": [
              "1"
            ]
          },
          "metadata": {},
          "execution_count": 25
        }
      ]
    },
    {
      "cell_type": "markdown",
      "source": [
        "#Tuple"
      ],
      "metadata": {
        "id": "BpkI76TyY0JJ"
      }
    },
    {
      "cell_type": "code",
      "source": [
        "t = (1,2,3)"
      ],
      "metadata": {
        "id": "nlXvfOMHYzdK"
      },
      "execution_count": null,
      "outputs": []
    },
    {
      "cell_type": "code",
      "source": [
        "t[0]"
      ],
      "metadata": {
        "colab": {
          "base_uri": "https://localhost:8080/"
        },
        "id": "bkOH7Rh0YzaQ",
        "outputId": "f75df068-80ac-4fdd-aae4-b5b44460945b"
      },
      "execution_count": null,
      "outputs": [
        {
          "output_type": "execute_result",
          "data": {
            "text/plain": [
              "1"
            ]
          },
          "metadata": {},
          "execution_count": 27
        }
      ]
    },
    {
      "cell_type": "markdown",
      "source": [
        "#List vs Tuple\n",
        "Tuples are immutable, doesnt accept assignment"
      ],
      "metadata": {
        "id": "sLj5VE2QZasy"
      }
    },
    {
      "cell_type": "code",
      "source": [
        "my_list= [1,2,3]"
      ],
      "metadata": {
        "id": "GzqettBmYzXV"
      },
      "execution_count": null,
      "outputs": []
    },
    {
      "cell_type": "code",
      "source": [
        "my_list[1] = \"New\""
      ],
      "metadata": {
        "id": "Yl7-Eu07YzUB"
      },
      "execution_count": null,
      "outputs": []
    },
    {
      "cell_type": "code",
      "source": [
        "my_list"
      ],
      "metadata": {
        "colab": {
          "base_uri": "https://localhost:8080/"
        },
        "id": "OZnHRa9eYzQZ",
        "outputId": "12166bee-751f-47db-830a-9d65e19ba77c"
      },
      "execution_count": null,
      "outputs": [
        {
          "output_type": "execute_result",
          "data": {
            "text/plain": [
              "[1, 'New', 3]"
            ]
          },
          "metadata": {},
          "execution_count": 32
        }
      ]
    },
    {
      "cell_type": "code",
      "source": [
        "t = (1,2,3)"
      ],
      "metadata": {
        "id": "_ZpItDpRYy9Z"
      },
      "execution_count": null,
      "outputs": []
    },
    {
      "cell_type": "markdown",
      "source": [
        "Tuples are immutable, user can not change the sequence of object"
      ],
      "metadata": {
        "id": "fCafa06JaHqG"
      }
    },
    {
      "cell_type": "code",
      "source": [
        "t[0] = \"new\""
      ],
      "metadata": {
        "id": "kGW8GBLYZwLI"
      },
      "execution_count": null,
      "outputs": []
    },
    {
      "cell_type": "markdown",
      "source": [
        "#Set\n",
        "Only unique elements"
      ],
      "metadata": {
        "id": "Eq70h6sgaUhj"
      }
    },
    {
      "cell_type": "code",
      "source": [
        "s = {1,2,2,2,2,3,4,5,6}"
      ],
      "metadata": {
        "id": "4OY7df_qZwIB"
      },
      "execution_count": null,
      "outputs": []
    },
    {
      "cell_type": "code",
      "source": [
        "s"
      ],
      "metadata": {
        "colab": {
          "base_uri": "https://localhost:8080/"
        },
        "id": "4Ud-iG3SZwFZ",
        "outputId": "48b2063a-d147-4ead-aab0-a79fcaa0b871"
      },
      "execution_count": null,
      "outputs": [
        {
          "output_type": "execute_result",
          "data": {
            "text/plain": [
              "{1, 2, 3, 4, 5, 6}"
            ]
          },
          "metadata": {},
          "execution_count": 36
        }
      ]
    },
    {
      "cell_type": "markdown",
      "source": [
        "Return unique elements"
      ],
      "metadata": {
        "id": "IRACirpkao80"
      }
    },
    {
      "cell_type": "code",
      "source": [
        "set([1,1,1,1,1,2,3])"
      ],
      "metadata": {
        "colab": {
          "base_uri": "https://localhost:8080/"
        },
        "id": "oP5pV9iXZwCK",
        "outputId": "a557d65b-b6b1-4343-cba6-d5a5938cca2d"
      },
      "execution_count": null,
      "outputs": [
        {
          "output_type": "execute_result",
          "data": {
            "text/plain": [
              "{1, 2, 3}"
            ]
          },
          "metadata": {},
          "execution_count": 37
        }
      ]
    },
    {
      "cell_type": "markdown",
      "source": [
        "#List comprehension"
      ],
      "metadata": {
        "id": "HSFcBvjGa5QZ"
      }
    },
    {
      "cell_type": "code",
      "source": [
        "x=[1,2,3,4]"
      ],
      "metadata": {
        "id": "OoJI1Uy0a2JB"
      },
      "execution_count": 2,
      "outputs": []
    },
    {
      "cell_type": "code",
      "source": [
        "out = []\n",
        "for num in x:\n",
        "  out.append(num**2)"
      ],
      "metadata": {
        "id": "obqTVsQ8a5Gh"
      },
      "execution_count": 3,
      "outputs": []
    },
    {
      "cell_type": "code",
      "source": [
        "print(out )"
      ],
      "metadata": {
        "id": "Rdt8PXxJa5DI",
        "colab": {
          "base_uri": "https://localhost:8080/"
        },
        "outputId": "bbd8bccf-b747-40ff-f846-6c690a757bd9"
      },
      "execution_count": 4,
      "outputs": [
        {
          "output_type": "stream",
          "name": "stdout",
          "text": [
            "[1, 4, 9, 16]\n"
          ]
        }
      ]
    },
    {
      "cell_type": "markdown",
      "source": [
        "Example"
      ],
      "metadata": {
        "id": "ud7G_rtoZaj5"
      }
    },
    {
      "cell_type": "code",
      "source": [
        "[num**2 for num in x]"
      ],
      "metadata": {
        "id": "8GEFG4sAa4-5",
        "colab": {
          "base_uri": "https://localhost:8080/"
        },
        "outputId": "0f4a7bee-9c69-488a-d575-3954002e8d97"
      },
      "execution_count": 5,
      "outputs": [
        {
          "output_type": "execute_result",
          "data": {
            "text/plain": [
              "[1, 4, 9, 16]"
            ]
          },
          "metadata": {},
          "execution_count": 5
        }
      ]
    },
    {
      "cell_type": "markdown",
      "source": [
        "#Function"
      ],
      "metadata": {
        "id": "gwMdCgKTZ0q6"
      }
    },
    {
      "cell_type": "code",
      "source": [
        "def my_func(name):\n",
        "  print('Hello '+name)"
      ],
      "metadata": {
        "id": "xkQzC0Waa44K"
      },
      "execution_count": 7,
      "outputs": []
    },
    {
      "cell_type": "code",
      "source": [
        "my_func('ab')"
      ],
      "metadata": {
        "id": "GysA_1LMa41B",
        "colab": {
          "base_uri": "https://localhost:8080/"
        },
        "outputId": "49a80ebf-d265-48dc-cb9e-8b65f69236b9"
      },
      "execution_count": 9,
      "outputs": [
        {
          "output_type": "stream",
          "name": "stdout",
          "text": [
            "Hello ab\n"
          ]
        }
      ]
    },
    {
      "cell_type": "markdown",
      "source": [
        "#Lambda"
      ],
      "metadata": {
        "id": "BzZln335iTgy"
      }
    },
    {
      "cell_type": "code",
      "source": [
        "def times2(var):return var*2"
      ],
      "metadata": {
        "id": "A3mI30n7a4xx"
      },
      "execution_count": 18,
      "outputs": []
    },
    {
      "cell_type": "code",
      "source": [
        "seq = [1,2,3,4,4]"
      ],
      "metadata": {
        "id": "uFJpc5Zca4uf"
      },
      "execution_count": 19,
      "outputs": []
    },
    {
      "cell_type": "markdown",
      "source": [
        "Map"
      ],
      "metadata": {
        "id": "SvQgZz01i76R"
      }
    },
    {
      "cell_type": "code",
      "source": [
        "list(map(times2, seq))"
      ],
      "metadata": {
        "id": "CXF-Nn15a4rE",
        "colab": {
          "base_uri": "https://localhost:8080/"
        },
        "outputId": "9b000ce1-d66a-44be-ce85-08a2cdb0410a"
      },
      "execution_count": 20,
      "outputs": [
        {
          "output_type": "execute_result",
          "data": {
            "text/plain": [
              "[2, 4, 6, 8, 8]"
            ]
          },
          "metadata": {},
          "execution_count": 20
        }
      ]
    },
    {
      "cell_type": "code",
      "source": [
        "t = lambda var:var*2"
      ],
      "metadata": {
        "id": "EmhQJMTBa4jL"
      },
      "execution_count": 22,
      "outputs": []
    },
    {
      "cell_type": "code",
      "source": [
        "t(6)"
      ],
      "metadata": {
        "id": "XPSJlB2Na4eI",
        "colab": {
          "base_uri": "https://localhost:8080/"
        },
        "outputId": "4199457e-e1c9-4acd-d916-150a50940f7a"
      },
      "execution_count": 23,
      "outputs": [
        {
          "output_type": "execute_result",
          "data": {
            "text/plain": [
              "12"
            ]
          },
          "metadata": {},
          "execution_count": 23
        }
      ]
    },
    {
      "cell_type": "code",
      "source": [
        "list(map(lambda num: num*3, seq))"
      ],
      "metadata": {
        "colab": {
          "base_uri": "https://localhost:8080/"
        },
        "id": "v59cVK2Zj3pU",
        "outputId": "abc5a33b-e9fd-47d3-c748-d2b4d421f061"
      },
      "execution_count": 25,
      "outputs": [
        {
          "output_type": "execute_result",
          "data": {
            "text/plain": [
              "[3, 6, 9, 12, 12]"
            ]
          },
          "metadata": {},
          "execution_count": 25
        }
      ]
    },
    {
      "cell_type": "markdown",
      "source": [
        "Filter"
      ],
      "metadata": {
        "id": "MeSaGMTZkNya"
      }
    },
    {
      "cell_type": "code",
      "source": [
        "list(filter(lambda num:num%2==0, seq))"
      ],
      "metadata": {
        "colab": {
          "base_uri": "https://localhost:8080/"
        },
        "id": "T2CnH4n8kPHh",
        "outputId": "7229c47a-34cc-4094-be26-b4c97d776285"
      },
      "execution_count": 27,
      "outputs": [
        {
          "output_type": "execute_result",
          "data": {
            "text/plain": [
              "[2, 4, 4]"
            ]
          },
          "metadata": {},
          "execution_count": 27
        }
      ]
    },
    {
      "cell_type": "markdown",
      "source": [
        "#Tuple and Packing"
      ],
      "metadata": {
        "id": "vgnpfDpawsdk"
      }
    },
    {
      "cell_type": "code",
      "source": [
        "x = [(1,2),(3,4),(5,6)]"
      ],
      "metadata": {
        "id": "glIYZ3Siwun8"
      },
      "execution_count": 28,
      "outputs": []
    },
    {
      "cell_type": "code",
      "source": [
        "x[0][1]"
      ],
      "metadata": {
        "colab": {
          "base_uri": "https://localhost:8080/"
        },
        "id": "DQ1TudzRw1x8",
        "outputId": "4a369e7b-8c8a-46c2-d15a-37edb8ffdff3"
      },
      "execution_count": 29,
      "outputs": [
        {
          "output_type": "execute_result",
          "data": {
            "text/plain": [
              "2"
            ]
          },
          "metadata": {},
          "execution_count": 29
        }
      ]
    },
    {
      "cell_type": "markdown",
      "source": [
        "Unpacking"
      ],
      "metadata": {
        "id": "S-Mk9n4lxKf1"
      }
    },
    {
      "cell_type": "code",
      "source": [
        "for (a,b) in x:\n",
        "  print(a)"
      ],
      "metadata": {
        "colab": {
          "base_uri": "https://localhost:8080/"
        },
        "id": "6knN92Vuw9En",
        "outputId": "d4a792e4-c261-4853-eb78-ea1bc436f39a"
      },
      "execution_count": 32,
      "outputs": [
        {
          "output_type": "stream",
          "name": "stdout",
          "text": [
            "1\n",
            "3\n",
            "5\n"
          ]
        }
      ]
    }
  ]
}